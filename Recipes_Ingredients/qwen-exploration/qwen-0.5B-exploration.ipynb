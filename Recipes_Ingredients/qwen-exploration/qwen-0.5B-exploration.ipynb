{
 "cells": [
  {
   "cell_type": "code",
   "execution_count": 1,
   "metadata": {},
   "outputs": [],
   "source": [
    "import pandas as pd\n",
    "import numpy as np\n",
    "\n",
    "recipes = pd.read_csv('filtered_recipes.csv')"
   ]
  },
  {
   "cell_type": "code",
   "execution_count": 2,
   "metadata": {},
   "outputs": [
    {
     "name": "stdout",
     "output_type": "stream",
     "text": [
      "<class 'pandas.core.frame.DataFrame'>\n",
      "RangeIndex: 134746 entries, 0 to 134745\n",
      "Data columns (total 26 columns):\n",
      " #   Column                            Non-Null Count   Dtype  \n",
      "---  ------                            --------------   -----  \n",
      " 0   id                                134746 non-null  int64  \n",
      " 1   name                              134746 non-null  object \n",
      " 2   description                       134078 non-null  object \n",
      " 3   ingredients_raw                   134746 non-null  object \n",
      " 4   steps                             134746 non-null  object \n",
      " 5   servings                          134746 non-null  float64\n",
      " 6   serving_size                      134746 non-null  object \n",
      " 7   tags                              134746 non-null  object \n",
      " 8   ingredients                       134746 non-null  object \n",
      " 9   amounts                           134746 non-null  object \n",
      " 10  amount_gram                       134746 non-null  object \n",
      " 11  serving_size_numeric              134746 non-null  float64\n",
      " 12  predicted_total                   134746 non-null  float64\n",
      " 13  actual_total                      134746 non-null  float64\n",
      " 14  approx_rate                       134746 non-null  float64\n",
      " 15  total_recipe_weight               134746 non-null  float64\n",
      " 16  recipe_energy_per100g             130261 non-null  float64\n",
      " 17  recipe_carbohydrates_per100g      128891 non-null  float64\n",
      " 18  recipe_proteins_per100g           129696 non-null  float64\n",
      " 19  recipe_fat_per100g                128916 non-null  float64\n",
      " 20  recipe_energy_kcal_per100g        130261 non-null  float64\n",
      " 21  recipe_energy_per_serving         130261 non-null  float64\n",
      " 22  recipe_carbohydrates_per_serving  128891 non-null  float64\n",
      " 23  recipe_proteins_per_serving       129696 non-null  float64\n",
      " 24  recipe_fat_per_serving            128916 non-null  float64\n",
      " 25  recipe_energy_kcal_per_serving    130261 non-null  float64\n",
      "dtypes: float64(16), int64(1), object(9)\n",
      "memory usage: 26.7+ MB\n"
     ]
    }
   ],
   "source": [
    "recipes.info()"
   ]
  },
  {
   "cell_type": "code",
   "execution_count": 3,
   "metadata": {},
   "outputs": [
    {
     "data": {
      "text/html": [
       "<div>\n",
       "<style scoped>\n",
       "    .dataframe tbody tr th:only-of-type {\n",
       "        vertical-align: middle;\n",
       "    }\n",
       "\n",
       "    .dataframe tbody tr th {\n",
       "        vertical-align: top;\n",
       "    }\n",
       "\n",
       "    .dataframe thead th {\n",
       "        text-align: right;\n",
       "    }\n",
       "</style>\n",
       "<table border=\"1\" class=\"dataframe\">\n",
       "  <thead>\n",
       "    <tr style=\"text-align: right;\">\n",
       "      <th></th>\n",
       "      <th>id</th>\n",
       "      <th>name</th>\n",
       "      <th>description</th>\n",
       "      <th>ingredients_raw</th>\n",
       "      <th>steps</th>\n",
       "      <th>servings</th>\n",
       "      <th>serving_size</th>\n",
       "      <th>tags</th>\n",
       "      <th>ingredients</th>\n",
       "      <th>amounts</th>\n",
       "      <th>amount_gram</th>\n",
       "      <th>serving_size_numeric</th>\n",
       "      <th>predicted_total</th>\n",
       "      <th>actual_total</th>\n",
       "      <th>approx_rate</th>\n",
       "      <th>total_recipe_weight</th>\n",
       "      <th>recipe_energy_per100g</th>\n",
       "      <th>recipe_carbohydrates_per100g</th>\n",
       "      <th>recipe_proteins_per100g</th>\n",
       "      <th>recipe_fat_per100g</th>\n",
       "      <th>recipe_energy_kcal_per100g</th>\n",
       "      <th>recipe_energy_per_serving</th>\n",
       "      <th>recipe_carbohydrates_per_serving</th>\n",
       "      <th>recipe_proteins_per_serving</th>\n",
       "      <th>recipe_fat_per_serving</th>\n",
       "      <th>recipe_energy_kcal_per_serving</th>\n",
       "    </tr>\n",
       "  </thead>\n",
       "  <tbody>\n",
       "    <tr>\n",
       "      <th>0</th>\n",
       "      <td>76133</td>\n",
       "      <td>Reuben and Swiss Casserole Bake</td>\n",
       "      <td>I think this is even better than a reuben sand...</td>\n",
       "      <td>[\"1/2-1   lb    corned beef, cooked and choppe...</td>\n",
       "      <td>[\"Set oven to 350 degrees F.\", \"Butter a 9 x 1...</td>\n",
       "      <td>4.0</td>\n",
       "      <td>1 (207 g)</td>\n",
       "      <td>[\"60-minutes-or-less\", \"time-to-make\", \"course...</td>\n",
       "      <td>['corned beef', 'thousand island dressing', 's...</td>\n",
       "      <td>[{'unit': 'pound', 'amount_min': 0.5, 'amount_...</td>\n",
       "      <td>['226.8-453.6', 60.0, 453.6, 226.8, 150.0, 53.9]</td>\n",
       "      <td>207.0</td>\n",
       "      <td>1284.5</td>\n",
       "      <td>828.0</td>\n",
       "      <td>0.644609</td>\n",
       "      <td>1284.5</td>\n",
       "      <td>837.891086</td>\n",
       "      <td>8.031474</td>\n",
       "      <td>12.64761</td>\n",
       "      <td>13.490992</td>\n",
       "      <td>200.260776</td>\n",
       "      <td>1734.434548</td>\n",
       "      <td>16.625151</td>\n",
       "      <td>26.180553</td>\n",
       "      <td>27.926353</td>\n",
       "      <td>414.539806</td>\n",
       "    </tr>\n",
       "  </tbody>\n",
       "</table>\n",
       "</div>"
      ],
      "text/plain": [
       "      id                             name                                        description                                    ingredients_raw                                              steps  servings serving_size                                               tags                                        ingredients                                            amounts                                       amount_gram  serving_size_numeric  predicted_total  actual_total  approx_rate  total_recipe_weight  recipe_energy_per100g  recipe_carbohydrates_per100g  recipe_proteins_per100g  recipe_fat_per100g  recipe_energy_kcal_per100g  recipe_energy_per_serving  recipe_carbohydrates_per_serving  recipe_proteins_per_serving  recipe_fat_per_serving  recipe_energy_kcal_per_serving\n",
       "0  76133  Reuben and Swiss Casserole Bake  I think this is even better than a reuben sand...  [\"1/2-1   lb    corned beef, cooked and choppe...  [\"Set oven to 350 degrees F.\", \"Butter a 9 x 1...       4.0    1 (207 g)  [\"60-minutes-or-less\", \"time-to-make\", \"course...  ['corned beef', 'thousand island dressing', 's...  [{'unit': 'pound', 'amount_min': 0.5, 'amount_...  ['226.8-453.6', 60.0, 453.6, 226.8, 150.0, 53.9]                 207.0           1284.5         828.0     0.644609               1284.5             837.891086                      8.031474                 12.64761           13.490992                  200.260776                1734.434548                         16.625151                    26.180553               27.926353                      414.539806"
      ]
     },
     "execution_count": 3,
     "metadata": {},
     "output_type": "execute_result"
    }
   ],
   "source": [
    "pd.set_option('display.max_columns', 500)\n",
    "pd.set_option('display.width', 1000)\n",
    "recipes.head(1)"
   ]
  },
  {
   "cell_type": "code",
   "execution_count": 5,
   "metadata": {},
   "outputs": [],
   "source": [
    "import yaml\n",
    "import pandas as pd\n",
    "\n",
    "def safe_yaml_parse(s):\n",
    "    try:\n",
    "        # Replace single quotes with double quotes for YAML compatibility\n",
    "        s_clean = s.replace(\"'\", '\"')\n",
    "        parsed = yaml.safe_load(s_clean)\n",
    "        # Ensure parsed result is a list (not None or other types)\n",
    "        return parsed if isinstance(parsed, list) else None\n",
    "    except Exception as e:\n",
    "        # Return None for failed parsing (tracked later)\n",
    "        return None\n",
    "\n",
    "# Create a new column for parsed steps (keep original 'steps')\n",
    "recipes['steps_parsed'] = recipes['steps'].apply(safe_yaml_parse)\n",
    "\n",
    "# Track validation status (True/False)\n",
    "recipes['steps_validated'] = recipes['steps_parsed'].notna()\n",
    "\n",
    "# Save failed entries with their IDs to a CSV\n",
    "failed_mask = ~recipes['steps_validated']\n",
    "failed_entries = recipes.loc[failed_mask, ['id', 'steps']]  # Assuming 'id' column exists\n",
    "failed_entries.to_csv('failed_entries.csv', index=False)\n",
    "\n",
    "# Optional: Drop the temporary 'steps_parsed' column if needed\n",
    "# recipes = recipes.drop(columns=['steps_parsed'])"
   ]
  },
  {
   "cell_type": "code",
   "execution_count": 6,
   "metadata": {},
   "outputs": [
    {
     "name": "stdout",
     "output_type": "stream",
     "text": [
      "Successfully parsed: 113775\n",
      "Failed: 20971\n"
     ]
    }
   ],
   "source": [
    "print(f\"Successfully parsed: {recipes['steps_validated'].sum()}\")\n",
    "print(f\"Failed: {len(recipes) - recipes['steps_validated'].sum()}\")"
   ]
  },
  {
   "cell_type": "code",
   "execution_count": 7,
   "metadata": {},
   "outputs": [
    {
     "name": "stdout",
     "output_type": "stream",
     "text": [
      "Successfully parsed after reprocessing: 134154\n",
      "Still failed: 592\n"
     ]
    }
   ],
   "source": [
    "import yaml\n",
    "\n",
    "def safe_yaml_parse(s):\n",
    "    try:\n",
    "        # Escape existing double quotes and replace single quotes\n",
    "        s_clean = s.replace('\"', '\\\\\"').replace(\"'\", '\"')\n",
    "        parsed = yaml.safe_load(s_clean)\n",
    "        return parsed if isinstance(parsed, list) else None  # Ensure it's a list\n",
    "    except Exception as e:\n",
    "        return None  # Keep as None for tracking\n",
    "\n",
    "# Identify rows that previously failed parsing\n",
    "mask = ~recipes['steps_validated']\n",
    "\n",
    "# Reprocess only failed entries\n",
    "recipes.loc[mask, 'steps_parsed'] = recipes.loc[mask, 'steps'].apply(safe_yaml_parse)\n",
    "\n",
    "# Update validation status for reprocessed rows\n",
    "recipes.loc[mask, 'steps_validated'] = recipes.loc[mask, 'steps_parsed'].notna()\n",
    "\n",
    "# Save remaining failed entries to a new file\n",
    "still_failed_mask = ~recipes['steps_validated']\n",
    "still_failed_entries = recipes.loc[still_failed_mask, ['id', 'steps']]\n",
    "still_failed_entries.to_csv('still_failed_entries.csv', index=False)\n",
    "\n",
    "# Print stats\n",
    "print(f\"Successfully parsed after reprocessing: {recipes['steps_validated'].sum()}\")\n",
    "print(f\"Still failed: {still_failed_entries.shape[0]}\")"
   ]
  },
  {
   "cell_type": "code",
   "execution_count": 8,
   "metadata": {},
   "outputs": [
    {
     "name": "stdout",
     "output_type": "stream",
     "text": [
      "[\"1. Stick a stick in through the top of the apple, and twirl the apple in the heated caramel dip.\", \"2. Roll that apple in some peanuts.\", \"3.  It\"s called a carmel apple and ain\"t it grand?\"]\n",
      "[\"Date Filling: Cook dates in water with orange rind {grated} with sugar over a moderate heat until thickened and smooth remove from heat and add fruit juices mix well and cool before spreading.\", \"Crumb Mixture: Sift flour, baking soda and salt rub in butter add sugar and oatmeal mix well spread 1/2 of the crumb mixture in a greased pan and press in smoothly. Cover with cooled date mixture evenly then cover with the remaining crumb mixture pat to make smooth bake 30 - 35 minutes in a cool oven 325 Fahrenheit then increase the heat to 350 Fahrenheit to lightly brown cake.\", \"Cut in squares while hot allow to cool in pan.\", \"Note: Date mixture can be cut in half if you do not want that much filling. Crumb mixture I blend the butter  well with the crumb mixture then I put the mixture in my Kitchen Aid stand mixer on the lowest setting for about 3 minutes until well blended to crumb consistency only do not over blend in mixer it will happen quickly about 1 - 3 minutes depending on how soft your butter is in the beginning.\", \"Note: I use cold butter for the crumble mixture. We like like this date crumble very delicately browned so we don\"t turn the oven up to 350 Fahrenheit just keep it at 325 for 10 more minutes after the 30 minutes. I also add quite a bit more lemon and just about a 1/4 cup of dates more that are chopped and pitted that\"s how our family likes this cake. I also let the date mixture marry for a couple of days in the refrigerator and then reduce it somewhat on very low heat then cool for baking the cake.\"]\n",
      "[\"Mix all together thoroughly and store in well sealed glass jar.\", \"Store in refrigerator or freezer to extend shelf life.\", \"Optional;  Booyah spices #511313, High Cliff Chili spices #520724, MAdCity Dale\"s Cajun spices #452804, MAdCity Dale\"s Luv seasoning #520519.\"]\n"
     ]
    },
    {
     "data": {
      "text/plain": [
       "18229    None\n",
       "44026    None\n",
       "60958    None\n",
       "Name: steps, dtype: object"
      ]
     },
     "execution_count": 8,
     "metadata": {},
     "output_type": "execute_result"
    }
   ],
   "source": [
    "# Check a sample of remaining failures\n",
    "still_failed_sample = recipes[still_failed_mask].sample(3)\n",
    "still_failed_sample['steps'].apply(print)"
   ]
  },
  {
   "cell_type": "code",
   "execution_count": 9,
   "metadata": {},
   "outputs": [
    {
     "name": "stdout",
     "output_type": "stream",
     "text": [
      "Remaining rows: 134154\n"
     ]
    }
   ],
   "source": [
    "recipes = recipes[recipes['steps_validated']]\n",
    "recipes = recipes.reset_index(drop=True)\n",
    "print(f\"Remaining rows: {len(recipes)}\")\n"
   ]
  },
  {
   "cell_type": "code",
   "execution_count": 13,
   "metadata": {},
   "outputs": [],
   "source": [
    "import ast\n",
    "recipes['ingredients'] = recipes['ingredients'].apply(ast.literal_eval)"
   ]
  },
  {
   "cell_type": "code",
   "execution_count": 14,
   "metadata": {},
   "outputs": [],
   "source": [
    "recipes['ingredients_raw'] = recipes['ingredients_raw'].apply(ast.literal_eval)"
   ]
  },
  {
   "cell_type": "code",
   "execution_count": 15,
   "metadata": {},
   "outputs": [],
   "source": [
    "recipes['amount_gram'] = recipes['amount_gram'].apply(ast.literal_eval)"
   ]
  },
  {
   "cell_type": "code",
   "execution_count": 16,
   "metadata": {},
   "outputs": [],
   "source": [
    "recipes['amounts'] = recipes['amounts'].apply(ast.literal_eval)"
   ]
  },
  {
   "cell_type": "code",
   "execution_count": 17,
   "metadata": {},
   "outputs": [],
   "source": [
    "recipes['tags'] = recipes['tags'].apply(ast.literal_eval)"
   ]
  },
  {
   "cell_type": "code",
   "execution_count": 16,
   "metadata": {},
   "outputs": [],
   "source": [
    "recipes.to_csv('parsed_recipes.csv',index=False)"
   ]
  },
  {
   "cell_type": "code",
   "execution_count": 12,
   "metadata": {},
   "outputs": [],
   "source": [
    "recipes = pd.read_csv('parsed_recipes.csv')"
   ]
  },
  {
   "cell_type": "code",
   "execution_count": 9,
   "metadata": {},
   "outputs": [
    {
     "name": "stdout",
     "output_type": "stream",
     "text": [
      "API key found and looks good so far!\n"
     ]
    }
   ],
   "source": [
    "# We are going to generate questions for each recipe's description and name. \n",
    "# This will help to build our baseline model. \n",
    "import os\n",
    "from dotenv import load_dotenv\n",
    "from openai import OpenAI\n",
    "\n",
    "load_dotenv(override=True)\n",
    "api_key = os.getenv('OPENAI_API_KEY')\n",
    "openai = OpenAI(api_key = api_key)\n",
    "# Check the key\n",
    "\n",
    "if not api_key:\n",
    "    print(\"No API key was found - please head over to the troubleshooting notebook in this folder to identify & fix!\")\n",
    "elif not api_key.startswith(\"sk-proj-\"):\n",
    "    print(\"An API key was found, but it doesn't start sk-proj-; please check you're using the right key - see troubleshooting notebook\")\n",
    "elif api_key.strip() != api_key:\n",
    "    print(\"An API key was found, but it looks like it might have space or tab characters at the start or end - please remove them - see troubleshooting notebook\")\n",
    "else:\n",
    "    print(\"API key found and looks good so far!\")"
   ]
  },
  {
   "cell_type": "code",
   "execution_count": 18,
   "metadata": {},
   "outputs": [],
   "source": [
    "# We will load the full dataset and combine the name and description fields into a single text field for each recipe.\n",
    "# Using a SentenceTransformer , we will convert all combined texts into embeddings.\n",
    "# We will normalize these embeddings so that cosine similatirty can be computed using inner products.\n",
    "# Then , we will cluster them using Faiss. Faiss's K-Means will be used to cluster the 130k+ embeddings.\n",
    "# For each of the 100 centroids , we will generate 1 synthetic question and answer that cover the diversity of our dataset. \n",
    "\n",
    "from sentence_transformers import SentenceTransformer\n",
    "import faiss\n",
    "\n",
    "df = recipes[['name','description']].copy()\n"
   ]
  },
  {
   "cell_type": "code",
   "execution_count": 19,
   "metadata": {},
   "outputs": [],
   "source": [
    "df[\"description\"] = df[\"description\"].fillna(\"\")  \n",
    "df[\"name_description\"] = df[\"name\"] + \" - \" + df[\"description\"]\n",
    "df[\"name_description\"] = df[\"name_description\"].str.strip(\" -\")  "
   ]
  },
  {
   "cell_type": "code",
   "execution_count": 20,
   "metadata": {},
   "outputs": [],
   "source": [
    "# Load a SentenceTransformer model for embedding generation\n",
    "embedder = SentenceTransformer('all-MiniLM-L6-v2')\n",
    "# Generate embeddings for all combined texts\n",
    "embeddings = embedder.encode(df[\"name_description\"].tolist(), convert_to_numpy=True)\n",
    "# Normalize embeddings so that inner product equals cosine similarity\n",
    "faiss.normalize_L2(embeddings)"
   ]
  },
  {
   "cell_type": "code",
   "execution_count": 21,
   "metadata": {},
   "outputs": [
    {
     "data": {
      "text/plain": [
       "13619.9892578125"
      ]
     },
     "execution_count": 21,
     "metadata": {},
     "output_type": "execute_result"
    }
   ],
   "source": [
    "# Set the number of clusters to 1000\n",
    "num_clusters = 100\n",
    "d = embeddings.shape[1]\n",
    "\n",
    "# Perform K-Means clustering with Faiss\n",
    "kmeans = faiss.Kmeans(d, num_clusters, niter=20, verbose=True)\n",
    "kmeans.train(embeddings)"
   ]
  },
  {
   "cell_type": "code",
   "execution_count": 22,
   "metadata": {},
   "outputs": [],
   "source": [
    "# Create FAISS index for retrieving nearest neighbors to centroids.\n",
    "index = faiss.IndexFlatL2(d)\n",
    "index.add(embeddings)\n",
    "# For each centroid, retrieve the nearest neighbor indice.\n",
    "_, cluster_indices = index.search(kmeans.centroids, 1)"
   ]
  },
  {
   "cell_type": "code",
   "execution_count": null,
   "metadata": {},
   "outputs": [],
   "source": [
    "def generate_question_and_answer(recipe_text):\n",
    "    \"\"\"\n",
    "    Given a recipe text (combined name and description), generate:\n",
    "      - A general question a user might ask (without having seen the recipe)\n",
    "      - A concise answer summarizing the recipe (including the recipe name and description)\n",
    "    \n",
    "    The prompt instructs the model to output in a structured format:\n",
    "    \n",
    "    Question: <your generated general question>\n",
    "    Answer: <your generated answer>\n",
    "    \"\"\"\n",
    "    prompt = (\n",
    "         \"Based on the following recipe details, generate one broad and general question that a user might ask when looking for a recipe. \"\n",
    "        \"Ignore very specific details and focus on the main category, key ingredients, or overall theme of the recipe. For example, instead of mentioning every detail, \"\n",
    "        \"the question could be like 'Can you suggest some comfort food desserts?' or 'Are there any budget-friendly recipes that include a specific ingredient?'\\n\\n\"\n",
    "        \"Also, generate a concise answer summarizing the recipe, including the recipe name and a brief description.\\n\\n\"\n",
    "        f\"Recipe Details: {recipe_text}\\n\\n\"\n",
    "        \"Please format your response exactly as follows:\\n\"\n",
    "        \"Question: <your general question>\\n\"\n",
    "        \"Answer: <your summary answer>\"\n",
    "    )\n",
    "    \n",
    "    response = openai.chat.completions.create(\n",
    "        model=\"gpt-3.5-turbo\",  \n",
    "        messages=[\n",
    "            {\"role\": \"system\", \"content\": \"You are a helpful culinary assistant skilled in both understanding recipe details and generalizing user search queries.\"},\n",
    "            {\"role\": \"user\", \"content\": prompt}\n",
    "        ],\n",
    "        max_tokens=150,\n",
    "        temperature=0.35,\n",
    "    )\n",
    "    content = response.choices[0].message.content.strip()\n",
    "    \n",
    "    # Parse the output assuming it follows the requested format.\n",
    "    # We'll split on \"Question:\" and \"Answer:\".\n",
    "    question = \"\"\n",
    "    answer = \"\"\n",
    "    if \"Question:\" in content and \"Answer:\" in content:\n",
    "        parts = content.split(\"Answer:\")\n",
    "        question_part = parts[0].split(\"Question:\")[-1].strip()\n",
    "        answer = parts[1].strip()\n",
    "        question = question_part\n",
    "    else:\n",
    "        # Fallback: return the full content as question and empty answer.\n",
    "        question = content\n",
    "        answer = \"\"\n",
    "    \n",
    "    # Final clean up: remove any stray numbering or punctuation.\n",
    "    question = question.strip(\" -0123456789\").strip()\n",
    "    answer = answer.strip(\" -0123456789\").strip()\n",
    "    return question, answer"
   ]
  },
  {
   "cell_type": "code",
   "execution_count": null,
   "metadata": {},
   "outputs": [],
   "source": [
    "all_cluster_data = []\n",
    "\n",
    "for cluster_id in range(num_clusters):\n",
    "    rep_idx = int(cluster_indices[cluster_id][0])  # Representative index for the cluster\n",
    "    recipe_text = df.iloc[rep_idx][\"name_description\"]\n",
    "    \n",
    "    # Generate one general question and an answer from the representative recipe text.\n",
    "    q, a = generate_question_and_answer(recipe_text)\n",
    "    \n",
    "    all_cluster_data.append({\n",
    "        \"cluster_id\": cluster_id,\n",
    "        \"representative_index\": rep_idx,\n",
    "        \"recipe_text\": recipe_text,\n",
    "        \"generated_question\": q,\n",
    "        \"generated_answer\": a\n",
    "    })"
   ]
  },
  {
   "cell_type": "code",
   "execution_count": null,
   "metadata": {},
   "outputs": [],
   "source": [
    "questions_df = pd.DataFrame(all_cluster_data)\n",
    "questions_df.to_csv(\"cluster_questions.csv\", index=False)"
   ]
  },
  {
   "cell_type": "code",
   "execution_count": 23,
   "metadata": {},
   "outputs": [],
   "source": [
    "questions_df = pd.read_csv('cluster_questions.csv')"
   ]
  },
  {
   "cell_type": "code",
   "execution_count": 29,
   "metadata": {},
   "outputs": [
    {
     "data": {
      "text/html": [
       "<div>\n",
       "<style scoped>\n",
       "    .dataframe tbody tr th:only-of-type {\n",
       "        vertical-align: middle;\n",
       "    }\n",
       "\n",
       "    .dataframe tbody tr th {\n",
       "        vertical-align: top;\n",
       "    }\n",
       "\n",
       "    .dataframe thead th {\n",
       "        text-align: right;\n",
       "    }\n",
       "</style>\n",
       "<table border=\"1\" class=\"dataframe\">\n",
       "  <thead>\n",
       "    <tr style=\"text-align: right;\">\n",
       "      <th></th>\n",
       "      <th>cluster_id</th>\n",
       "      <th>representative_index</th>\n",
       "      <th>recipe_text</th>\n",
       "      <th>generated_question</th>\n",
       "      <th>generated_answer</th>\n",
       "    </tr>\n",
       "  </thead>\n",
       "  <tbody>\n",
       "    <tr>\n",
       "      <th>0</th>\n",
       "      <td>0</td>\n",
       "      <td>63064</td>\n",
       "      <td>Bread Pudding - This is my mom's bread pudding recipe that she found in a magazine shortly after she and my dad were married. It is a wonderful comfort food for cool fall and winter days!</td>\n",
       "      <td>Can you recommend a comforting dessert for fall and winter days?</td>\n",
       "      <td>Recipe Name: Mom's Bread Pudding\\nDescription: A comforting bread pudding recipe perfect for cool fall and winter days, passed down from the user's mom.</td>\n",
       "    </tr>\n",
       "    <tr>\n",
       "      <th>1</th>\n",
       "      <td>1</td>\n",
       "      <td>54901</td>\n",
       "      <td>Pizza Dough - This makes an awesome pizza crust, crispy and yummy</td>\n",
       "      <td>Can you recommend a classic recipe for homemade pizza dough?</td>\n",
       "      <td>Recipe Name: Homemade Pizza Dough\\nDescription: This recipe provides a simple and delicious homemade pizza dough that results in a crispy and tasty crust, perfect for making your own pizzas at home.</td>\n",
       "    </tr>\n",
       "    <tr>\n",
       "      <th>2</th>\n",
       "      <td>2</td>\n",
       "      <td>57229</td>\n",
       "      <td>Baked Pork Chops - This is a great meal but a little longer than your weekday meal might take. Great flavor!</td>\n",
       "      <td>Can you recommend a flavorful and slightly time-consuming dinner recipe?</td>\n",
       "      <td>Recipe Name: Baked Pork Chops\\nDescription: This Baked Pork Chops recipe is a delicious and flavorful meal that takes a bit longer to prepare than a typical weekday dinner. It offers great taste and is worth the extra time spent in the kitchen.</td>\n",
       "    </tr>\n",
       "    <tr>\n",
       "      <th>3</th>\n",
       "      <td>3</td>\n",
       "      <td>119890</td>\n",
       "      <td>Inexpensive Caramels - This is from my Mom's recipe cards.  I have not tried this recipe.</td>\n",
       "      <td>Do you have a simple recipe for homemade candy?</td>\n",
       "      <td>Recipe Name: Inexpensive Caramels\\nDescription: This recipe is a classic homemade caramel recipe passed down from the user's Mom. It is a simple and inexpensive way to make delicious caramels at home.</td>\n",
       "    </tr>\n",
       "    <tr>\n",
       "      <th>4</th>\n",
       "      <td>4</td>\n",
       "      <td>101570</td>\n",
       "      <td>Turkey Tenderloins With Caramelized Onions - I love this with mashed potatoes! This is also good with chicken in place of turkey. It is adapted from a Betty Crocker cookbook.</td>\n",
       "      <td>Can you recommend a recipe featuring turkey tenderloins as the main ingredient?</td>\n",
       "      <td>Recipe Name: Turkey Tenderloins With Caramelized Onions - A delicious dish featuring turkey tenderloins and caramelized onions, perfect when served with mashed potatoes. It can also be made with chicken as a substitute. Adapted from a Betty Crocker cookbook.</td>\n",
       "    </tr>\n",
       "  </tbody>\n",
       "</table>\n",
       "</div>"
      ],
      "text/plain": [
       "   cluster_id  representative_index                                                                                                                                                                                  recipe_text                                                               generated_question                                                                                                                                                                                                                                                    generated_answer\n",
       "0           0                 63064  Bread Pudding - This is my mom's bread pudding recipe that she found in a magazine shortly after she and my dad were married. It is a wonderful comfort food for cool fall and winter days!                 Can you recommend a comforting dessert for fall and winter days?                                                                                                            Recipe Name: Mom's Bread Pudding\\nDescription: A comforting bread pudding recipe perfect for cool fall and winter days, passed down from the user's mom.\n",
       "1           1                 54901                                                                                                                            Pizza Dough - This makes an awesome pizza crust, crispy and yummy                     Can you recommend a classic recipe for homemade pizza dough?                                                              Recipe Name: Homemade Pizza Dough\\nDescription: This recipe provides a simple and delicious homemade pizza dough that results in a crispy and tasty crust, perfect for making your own pizzas at home.\n",
       "2           2                 57229                                                                                 Baked Pork Chops - This is a great meal but a little longer than your weekday meal might take. Great flavor!         Can you recommend a flavorful and slightly time-consuming dinner recipe?                Recipe Name: Baked Pork Chops\\nDescription: This Baked Pork Chops recipe is a delicious and flavorful meal that takes a bit longer to prepare than a typical weekday dinner. It offers great taste and is worth the extra time spent in the kitchen.\n",
       "3           3                119890                                                                                                    Inexpensive Caramels - This is from my Mom's recipe cards.  I have not tried this recipe.                                  Do you have a simple recipe for homemade candy?                                                            Recipe Name: Inexpensive Caramels\\nDescription: This recipe is a classic homemade caramel recipe passed down from the user's Mom. It is a simple and inexpensive way to make delicious caramels at home.\n",
       "4           4                101570               Turkey Tenderloins With Caramelized Onions - I love this with mashed potatoes! This is also good with chicken in place of turkey. It is adapted from a Betty Crocker cookbook.  Can you recommend a recipe featuring turkey tenderloins as the main ingredient?  Recipe Name: Turkey Tenderloins With Caramelized Onions - A delicious dish featuring turkey tenderloins and caramelized onions, perfect when served with mashed potatoes. It can also be made with chicken as a substitute. Adapted from a Betty Crocker cookbook."
      ]
     },
     "execution_count": 29,
     "metadata": {},
     "output_type": "execute_result"
    }
   ],
   "source": [
    "pd.set_option('display.max_colwidth', None)\n",
    "pd.set_option('display.max_rows', None)\n",
    "questions_df.head(5)"
   ]
  },
  {
   "cell_type": "code",
   "execution_count": null,
   "metadata": {},
   "outputs": [
    {
     "name": "stdout",
     "output_type": "stream",
     "text": [
      "QUESTION: Can you recommend a flavorful and slightly time-consuming dinner recipe?\n",
      "\n",
      "FAISS Search Results:\n",
      "                                        name                                                                                                                                                                                                                                                                                                                                                                                                                                                                                                                                                   description  \\\n",
      "86630                  International Dinner                                                                                                                                                                                                                                                                                                                                                                                                                                                                                           I rarely try my own recipes so I hope its edible lol gimme feedback   \n",
      "57741                  Baked Garlic Chicken                                                                                                                                                                                                                                                                                                                                                                                                                                                                                                                      Speedy weeknight supper! Very flavorful!   \n",
      "6026    Man Food Meat &amp; Potatoes Dinner                                                                                                                                                                                                                                                                                                                                                                                                                My DH loves this one.  The A1 steak sauce flavor is quite strong when made as is, but I found this also works really well with barbecue sauce.   \n",
      "92525                         Chicken Hogan                                                                                                                                                                                                                                                                              This is a very basic recipe that began as a way to keep from going grocery shopping for a day or two more.  It's very forgiving if you have any ingredient that you are short on or have extra you are trying to get rid of.  It has a good blend of flavors and is very simple.   \n",
      "126532         Frankly Peppered Potato Bake  A cheap and easy supper. I use turkey franks, but use whatever kind appeals to you. For me the caraway seeds are what make the meal, but if you don't like caraway seeds, leave 'em out (NOTE: Caraway seeds have a unique taste, so if you DO omit them, it WILL substantially change the flavor of the dish; I don't know of any similar-tasting seasoning you could substitute). Also adjust the amount of garlic to your taste. Nowadays, I find it hard to get small green bell peppers at the grocery star, so go fot one very big one if you have to.   \n",
      "\n",
      "                                                                                                                                                                                                                                                                                                                                                                                                                                                                                                                                                                                   name_description  \n",
      "86630                                                                                                                                                                                                                                                                                                                                                                                                                                                                                                    International Dinner - I rarely try my own recipes so I hope its edible lol gimme feedback  \n",
      "57741                                                                                                                                                                                                                                                                                                                                                                                                                                                                                                                               Baked Garlic Chicken - Speedy weeknight supper! Very flavorful!  \n",
      "6026                                                                                                                                                                                                                                                                                                                                                                                                           Man Food Meat &amp; Potatoes Dinner - My DH loves this one.  The A1 steak sauce flavor is quite strong when made as is, but I found this also works really well with barbecue sauce.  \n",
      "92525                                                                                                                                                                                                                                                                                              Chicken Hogan - This is a very basic recipe that began as a way to keep from going grocery shopping for a day or two more.  It's very forgiving if you have any ingredient that you are short on or have extra you are trying to get rid of.  It has a good blend of flavors and is very simple.  \n",
      "126532  Frankly Peppered Potato Bake - A cheap and easy supper. I use turkey franks, but use whatever kind appeals to you. For me the caraway seeds are what make the meal, but if you don't like caraway seeds, leave 'em out (NOTE: Caraway seeds have a unique taste, so if you DO omit them, it WILL substantially change the flavor of the dish; I don't know of any similar-tasting seasoning you could substitute). Also adjust the amount of garlic to your taste. Nowadays, I find it hard to get small green bell peppers at the grocery star, so go fot one very big one if you have to.  \n"
     ]
    }
   ],
   "source": [
    "\n",
    "def direct_faiss_search(query_text, top_k=5):\n",
    "    \"\"\"\n",
    "    1) Convert query_text into an embedding with the same model that produced 'embeddings'.\n",
    "    2) Normalize it (because the index presumably expects normalized embeddings).\n",
    "    3) Search your FAISS index for the top_k hits.\n",
    "    4) Return a DataFrame slice of the best matches.\n",
    "    \"\"\"\n",
    "    # 1) Encode the query\n",
    "    q_emb = embedder.encode([query_text], convert_to_numpy=True)\n",
    "    \n",
    "    # 2) Normalize so that L2 distance = 2 - 2*cosine_similarity\n",
    "    faiss.normalize_L2(q_emb)\n",
    "    \n",
    "    # 3) Query FAISS\n",
    "    distances, indices = index.search(q_emb, top_k)\n",
    "    \n",
    "    # 4) Return the matching rows from df\n",
    "    # 'indices' is shape (1, top_k)\n",
    "    best_idx = indices[0]\n",
    "    return df.iloc[best_idx]\n",
    "\n",
    "# Now let's test it with your question:\n",
    "question = questions_df.loc[2,'generated_question']\n",
    "results_df = direct_faiss_search(question, top_k=5)\n",
    "\n",
    "print(\"QUESTION:\", question)\n",
    "print(\"\\nFAISS Search Results:\\n\", results_df)\n"
   ]
  },
  {
   "cell_type": "code",
   "execution_count": 171,
   "metadata": {},
   "outputs": [
    {
     "name": "stdout",
     "output_type": "stream",
     "text": [
      "Baked Pork Chops - This is a great meal but a little longer than your weekday meal might take. Great flavor!\n"
     ]
    }
   ],
   "source": [
    "print(questions_df.loc[2,'recipe_text'])"
   ]
  },
  {
   "cell_type": "code",
   "execution_count": 60,
   "metadata": {},
   "outputs": [
    {
     "data": {
      "application/vnd.jupyter.widget-view+json": {
       "model_id": "054389f0f4624f7c97b68e101be06025",
       "version_major": 2,
       "version_minor": 0
      },
      "text/plain": [
       "tokenizer_config.json:   0%|          | 0.00/7.30k [00:00<?, ?B/s]"
      ]
     },
     "metadata": {},
     "output_type": "display_data"
    },
    {
     "name": "stderr",
     "output_type": "stream",
     "text": [
      "c:\\Users\\turgu\\anaconda3\\envs\\llms\\Lib\\site-packages\\huggingface_hub\\file_download.py:140: UserWarning: `huggingface_hub` cache-system uses symlinks by default to efficiently store duplicated files but your machine does not support them in C:\\Users\\turgu\\.cache\\huggingface\\hub\\models--Qwen--Qwen2.5-0.5B-Instruct. Caching files will still work but in a degraded version that might require more space on your disk. This warning can be disabled by setting the `HF_HUB_DISABLE_SYMLINKS_WARNING` environment variable. For more details, see https://huggingface.co/docs/huggingface_hub/how-to-cache#limitations.\n",
      "To support symlinks on Windows, you either need to activate Developer Mode or to run Python as an administrator. In order to activate developer mode, see this article: https://docs.microsoft.com/en-us/windows/apps/get-started/enable-your-device-for-development\n",
      "  warnings.warn(message)\n"
     ]
    },
    {
     "data": {
      "application/vnd.jupyter.widget-view+json": {
       "model_id": "aa28eab3083b461292a40dfa2d9ab0e4",
       "version_major": 2,
       "version_minor": 0
      },
      "text/plain": [
       "vocab.json:   0%|          | 0.00/2.78M [00:00<?, ?B/s]"
      ]
     },
     "metadata": {},
     "output_type": "display_data"
    },
    {
     "data": {
      "application/vnd.jupyter.widget-view+json": {
       "model_id": "70f7ec908ff048278cc1d2cc4825c01d",
       "version_major": 2,
       "version_minor": 0
      },
      "text/plain": [
       "merges.txt:   0%|          | 0.00/1.67M [00:00<?, ?B/s]"
      ]
     },
     "metadata": {},
     "output_type": "display_data"
    },
    {
     "data": {
      "application/vnd.jupyter.widget-view+json": {
       "model_id": "c56da3f33d5747b1bb1feaed25d31527",
       "version_major": 2,
       "version_minor": 0
      },
      "text/plain": [
       "tokenizer.json:   0%|          | 0.00/7.03M [00:00<?, ?B/s]"
      ]
     },
     "metadata": {},
     "output_type": "display_data"
    },
    {
     "data": {
      "application/vnd.jupyter.widget-view+json": {
       "model_id": "6ea61049cac4455db343877ac47b979a",
       "version_major": 2,
       "version_minor": 0
      },
      "text/plain": [
       "config.json:   0%|          | 0.00/659 [00:00<?, ?B/s]"
      ]
     },
     "metadata": {},
     "output_type": "display_data"
    },
    {
     "data": {
      "application/vnd.jupyter.widget-view+json": {
       "model_id": "22f4ce7a46064077b9abed61dad77a9f",
       "version_major": 2,
       "version_minor": 0
      },
      "text/plain": [
       "model.safetensors:   0%|          | 0.00/988M [00:00<?, ?B/s]"
      ]
     },
     "metadata": {},
     "output_type": "display_data"
    },
    {
     "data": {
      "application/vnd.jupyter.widget-view+json": {
       "model_id": "650463b4dccf4bafbb700cbee87138e7",
       "version_major": 2,
       "version_minor": 0
      },
      "text/plain": [
       "generation_config.json:   0%|          | 0.00/242 [00:00<?, ?B/s]"
      ]
     },
     "metadata": {},
     "output_type": "display_data"
    },
    {
     "data": {
      "text/plain": [
       "Qwen2ForCausalLM(\n",
       "  (model): Qwen2Model(\n",
       "    (embed_tokens): Embedding(151936, 896)\n",
       "    (layers): ModuleList(\n",
       "      (0-23): 24 x Qwen2DecoderLayer(\n",
       "        (self_attn): Qwen2Attention(\n",
       "          (q_proj): Linear(in_features=896, out_features=896, bias=True)\n",
       "          (k_proj): Linear(in_features=896, out_features=128, bias=True)\n",
       "          (v_proj): Linear(in_features=896, out_features=128, bias=True)\n",
       "          (o_proj): Linear(in_features=896, out_features=896, bias=False)\n",
       "        )\n",
       "        (mlp): Qwen2MLP(\n",
       "          (gate_proj): Linear(in_features=896, out_features=4864, bias=False)\n",
       "          (up_proj): Linear(in_features=896, out_features=4864, bias=False)\n",
       "          (down_proj): Linear(in_features=4864, out_features=896, bias=False)\n",
       "          (act_fn): SiLU()\n",
       "        )\n",
       "        (input_layernorm): Qwen2RMSNorm((896,), eps=1e-06)\n",
       "        (post_attention_layernorm): Qwen2RMSNorm((896,), eps=1e-06)\n",
       "      )\n",
       "    )\n",
       "    (norm): Qwen2RMSNorm((896,), eps=1e-06)\n",
       "    (rotary_emb): Qwen2RotaryEmbedding()\n",
       "  )\n",
       "  (lm_head): Linear(in_features=896, out_features=151936, bias=False)\n",
       ")"
      ]
     },
     "execution_count": 60,
     "metadata": {},
     "output_type": "execute_result"
    }
   ],
   "source": [
    "import torch\n",
    "from transformers import AutoTokenizer, AutoModelForCausalLM, GenerationConfig\n",
    "\n",
    "model_name = \"Qwen/Qwen2.5-0.5B-Instruct\"  \n",
    "tokenizer = AutoTokenizer.from_pretrained(model_name, trust_remote_code=True)\n",
    "qwen_model = AutoModelForCausalLM.from_pretrained(model_name, trust_remote_code=True)\n",
    "qwen_model.eval()"
   ]
  },
  {
   "cell_type": "code",
   "execution_count": null,
   "metadata": {},
   "outputs": [
    {
     "name": "stdout",
     "output_type": "stream",
     "text": [
      "Qwen model is running on: CUDA\n"
     ]
    },
    {
     "data": {
      "text/plain": [
       "Qwen2ForCausalLM(\n",
       "  (model): Qwen2Model(\n",
       "    (embed_tokens): Embedding(151936, 896)\n",
       "    (layers): ModuleList(\n",
       "      (0-23): 24 x Qwen2DecoderLayer(\n",
       "        (self_attn): Qwen2Attention(\n",
       "          (q_proj): Linear(in_features=896, out_features=896, bias=True)\n",
       "          (k_proj): Linear(in_features=896, out_features=128, bias=True)\n",
       "          (v_proj): Linear(in_features=896, out_features=128, bias=True)\n",
       "          (o_proj): Linear(in_features=896, out_features=896, bias=False)\n",
       "        )\n",
       "        (mlp): Qwen2MLP(\n",
       "          (gate_proj): Linear(in_features=896, out_features=4864, bias=False)\n",
       "          (up_proj): Linear(in_features=896, out_features=4864, bias=False)\n",
       "          (down_proj): Linear(in_features=4864, out_features=896, bias=False)\n",
       "          (act_fn): SiLU()\n",
       "        )\n",
       "        (input_layernorm): Qwen2RMSNorm((896,), eps=1e-06)\n",
       "        (post_attention_layernorm): Qwen2RMSNorm((896,), eps=1e-06)\n",
       "      )\n",
       "    )\n",
       "    (norm): Qwen2RMSNorm((896,), eps=1e-06)\n",
       "    (rotary_emb): Qwen2RotaryEmbedding()\n",
       "  )\n",
       "  (lm_head): Linear(in_features=896, out_features=151936, bias=False)\n",
       ")"
      ]
     },
     "execution_count": 61,
     "metadata": {},
     "output_type": "execute_result"
    }
   ],
   "source": [
    "device = \"cuda\" if torch.cuda.is_available() else \"cpu\"\n",
    "print(f\"Qwen model is running on: {device.upper()}\")\n",
    "\n",
    "qwen_model.to(device)"
   ]
  },
  {
   "cell_type": "code",
   "execution_count": 151,
   "metadata": {},
   "outputs": [],
   "source": [
    "import re\n",
    "import json\n",
    "\n",
    "def extract_final_json_block(raw_text):\n",
    "    \"\"\"\n",
    "    1) Find all substrings that start with '{', contain \"requested_count\",\n",
    "       and continue until the first matching '}'.\n",
    "    2) Return the LAST one found, in case Qwen prints multiple partial blocks or instructions.\n",
    "    3) Attempt to parse it as JSON; if parse fails, fallback to out-of-scope.\n",
    "\n",
    "    This approach ignores any lines with 'assistant' or system instructions,\n",
    "    because it hunts only for the final curly brace block containing \"requested_count\".\n",
    "    \"\"\"\n",
    "\n",
    "    # This regex does a LAZY match of any characters (including newlines) from \n",
    "    # the literal '{' up through the first '}' that closes the block containing \"requested_count\".\n",
    "    pattern = r'\\{\\s*\"requested_count\"(?:.|\\n)*?\\}'\n",
    "\n",
    "    matches = re.findall(pattern, raw_text)\n",
    "    if not matches:\n",
    "        # If no match, we have no valid JSON => fallback\n",
    "        return {\n",
    "            \"requested_count\": 0,\n",
    "            \"search_query\": \"[Out of scope or needs clarification]\"\n",
    "        }\n",
    "\n",
    "    # Take the last match to get the final JSON block\n",
    "    last_block = matches[-1].strip()\n",
    "\n",
    "    try:\n",
    "        parsed = json.loads(last_block)\n",
    "        return parsed\n",
    "    except Exception as e:\n",
    "        print(\"[DEBUG] parse error on last_block:\", e)\n",
    "        return {\n",
    "            \"requested_count\": 0,\n",
    "            \"search_query\": \"[Out of scope or needs clarification]\"\n",
    "        }\n",
    "\n",
    "        \n",
    "\n",
    "def rephrase_query_for_retrieval_json(original_query):\n",
    "    \n",
    "\n",
    "    system_instructions = (\n",
    "    \"You are a helpful assistant that extracts structured recipe request info from user input.\\n\"\n",
    "    \"Return ONLY a valid JSON object like this:\\n\"\n",
    "    '{ \"requested_count\": <integer>, \"search_query\": \"<keywords or constraints>\" }\\n\\n'\n",
    "    \"Rules:\\n\"\n",
    "    \"- If user says 'Give me X recipes' or 'I want X dishes', set requested_count = X , otherwise set requested_count = 5.\\n\"\n",
    "    \"- Time or ingredient limits (e.g. '3 ingredients', '15 minutes') go in search_query.\\n\"\n",
    "    \"- If unclear or out of scope, respond with:\\n\"\n",
    "    '{ \\\"requested_count\\\": 0, \\\"search_query\\\": \\\"[Out of scope or needs clarification]\\\" }\\n'\n",
    "    \"- No other output. Only JSON. No text or role names.\\n\\n\"\n",
    "    \"Examples:\\n\"\n",
    "    \"\\\"Give me 3 chicken recipes\\\"\\n\"\n",
    "    \"→ { \\\"requested_count\\\": 3, \\\"search_query\\\": \\\"chicken\\\" }\\n\\n\"\n",
    "    \"\\\"Quick vegan meals\\\"\\n\"\n",
    "    \"→ { \\\"requested_count\\\": 5, \\\"search_query\\\": \\\"quick vegan meals\\\" }\\n\\n\"\n",
    "    \"\\\"I want 10 dishes with at most 3 ingredients, ready in 15 minutes\\\"\\n\"\n",
    "    \"→ { \\\"requested_count\\\": 10, \\\"search_query\\\": \\\"at most 3 ingredients, 15 minutes\\\" }\\n\\n\"\n",
    "    \"\\\"I want some recipes with tofu\\\"\\n\"\n",
    "    \"→ { \\\"requested_count\\\": 5, \\\"search_query\\\": \\\"tofu\\\" }\"\n",
    "    \"\\\"Give me some recipes with chicken as a main ingredient.\\\"\\n\"\n",
    "    \"→ { \\\"requested_count\\\": 5, \\\"search_query\\\": \\\"chicken\\\" }\"\n",
    ")\n",
    "\n",
    "\n",
    "\n",
    "    user_message = f\"{original_query}\\n→\"\n",
    "\n",
    "\n",
    "    messages = [\n",
    "        {\"role\": \"system\", \"content\": system_instructions},\n",
    "        {\"role\": \"user\", \"content\": user_message}\n",
    "    ]\n",
    "\n",
    "    # Build final prompt for Qwen\n",
    "    prompt = tokenizer.apply_chat_template(messages, tokenize=False, add_generation_prompt=True)\n",
    "\n",
    "    print(\"\\n===== [DEBUG] Final Prompt =====\")\n",
    "    print(prompt)\n",
    "    print(\"================================\\n\")\n",
    "\n",
    "    inputs = tokenizer(prompt, return_tensors=\"pt\").to(qwen_model.device)\n",
    "    with torch.no_grad():\n",
    "        output = qwen_model.generate(**inputs, max_new_tokens=150)\n",
    "\n",
    "    raw_text = tokenizer.decode(output[0], skip_special_tokens=True).strip()\n",
    "\n",
    "    print(\"===== [DEBUG] Raw Qwen Output =====\")\n",
    "    print(raw_text)\n",
    "    print(\"===================================\\n\")\n",
    "\n",
    "    # Use the regex-based extraction\n",
    "    parsed = extract_final_json_block(raw_text)\n",
    "\n",
    "    print(\"===== [DEBUG] Parsed JSON =====\")\n",
    "    print(parsed)\n",
    "    print(\"================================\\n\")\n",
    "\n",
    "    return parsed\n",
    "\n",
    "\n"
   ]
  },
  {
   "cell_type": "code",
   "execution_count": 176,
   "metadata": {},
   "outputs": [
    {
     "name": "stdout",
     "output_type": "stream",
     "text": [
      "\n",
      "===== [DEBUG] Final Prompt =====\n",
      "<|im_start|>system\n",
      "You are a helpful assistant that extracts structured recipe request info from user input.\n",
      "Return ONLY a valid JSON object like this:\n",
      "{ \"requested_count\": <integer>, \"search_query\": \"<keywords or constraints>\" }\n",
      "\n",
      "Rules:\n",
      "- If user says 'Give me X recipes' or 'I want X dishes', set requested_count = X , otherwise set requested_count = 5.\n",
      "- Time or ingredient limits (e.g. '3 ingredients', '15 minutes') go in search_query.\n",
      "- If unclear or out of scope, respond with:\n",
      "{ \"requested_count\": 0, \"search_query\": \"[Out of scope or needs clarification]\" }\n",
      "- No other output. Only JSON. No text or role names.\n",
      "\n",
      "Examples:\n",
      "\"Give me 3 chicken recipes\"\n",
      "→ { \"requested_count\": 3, \"search_query\": \"chicken\" }\n",
      "\n",
      "\"Quick vegan meals\"\n",
      "→ { \"requested_count\": 5, \"search_query\": \"quick vegan meals\" }\n",
      "\n",
      "\"I want 10 dishes with at most 3 ingredients, ready in 15 minutes\"\n",
      "→ { \"requested_count\": 10, \"search_query\": \"at most 3 ingredients, 15 minutes\" }\n",
      "\n",
      "\"I want some recipes with tofu\"\n",
      "→ { \"requested_count\": 5, \"search_query\": \"tofu\" }\"Give me some recipes with chicken as a main ingredient.\"\n",
      "→ { \"requested_count\": 5, \"search_query\": \"chicken\" }<|im_end|>\n",
      "<|im_start|>user\n",
      "Can you recommend a simple homemade pickle recipe that combines sweet and spicy flavors?\n",
      "→<|im_end|>\n",
      "<|im_start|>assistant\n",
      "\n",
      "================================\n",
      "\n",
      "===== [DEBUG] Raw Qwen Output =====\n",
      "system\n",
      "You are a helpful assistant that extracts structured recipe request info from user input.\n",
      "Return ONLY a valid JSON object like this:\n",
      "{ \"requested_count\": <integer>, \"search_query\": \"<keywords or constraints>\" }\n",
      "\n",
      "Rules:\n",
      "- If user says 'Give me X recipes' or 'I want X dishes', set requested_count = X , otherwise set requested_count = 5.\n",
      "- Time or ingredient limits (e.g. '3 ingredients', '15 minutes') go in search_query.\n",
      "- If unclear or out of scope, respond with:\n",
      "{ \"requested_count\": 0, \"search_query\": \"[Out of scope or needs clarification]\" }\n",
      "- No other output. Only JSON. No text or role names.\n",
      "\n",
      "Examples:\n",
      "\"Give me 3 chicken recipes\"\n",
      "→ { \"requested_count\": 3, \"search_query\": \"chicken\" }\n",
      "\n",
      "\"Quick vegan meals\"\n",
      "→ { \"requested_count\": 5, \"search_query\": \"quick vegan meals\" }\n",
      "\n",
      "\"I want 10 dishes with at most 3 ingredients, ready in 15 minutes\"\n",
      "→ { \"requested_count\": 10, \"search_query\": \"at most 3 ingredients, 15 minutes\" }\n",
      "\n",
      "\"I want some recipes with tofu\"\n",
      "→ { \"requested_count\": 5, \"search_query\": \"tofu\" }\"Give me some recipes with chicken as a main ingredient.\"\n",
      "→ { \"requested_count\": 5, \"search_query\": \"chicken\" }\n",
      "user\n",
      "Can you recommend a simple homemade pickle recipe that combines sweet and spicy flavors?\n",
      "→\n",
      "assistant\n",
      "{ \"requested_count\": 2, \"search_query\": \"simple homemade pickle with sweet and spicy flavors\" }\n",
      "===================================\n",
      "\n",
      "===== [DEBUG] Parsed JSON =====\n",
      "{'requested_count': 2, 'search_query': 'simple homemade pickle with sweet and spicy flavors'}\n",
      "================================\n",
      "\n",
      "Final parsed JSON => {'requested_count': 2, 'search_query': 'simple homemade pickle with sweet and spicy flavors'}\n",
      "Joanne's Sweet and Hot Pickles - This recipe was given to me by a grand lady that I work with. It is very easy, fast and taste very good.\n",
      "[FAISS] Searching with: 'simple homemade pickle with sweet and spicy flavors'\n",
      "\n"
     ]
    },
    {
     "data": {
      "text/html": [
       "<div>\n",
       "<style scoped>\n",
       "    .dataframe tbody tr th:only-of-type {\n",
       "        vertical-align: middle;\n",
       "    }\n",
       "\n",
       "    .dataframe tbody tr th {\n",
       "        vertical-align: top;\n",
       "    }\n",
       "\n",
       "    .dataframe thead th {\n",
       "        text-align: right;\n",
       "    }\n",
       "</style>\n",
       "<table border=\"1\" class=\"dataframe\">\n",
       "  <thead>\n",
       "    <tr style=\"text-align: right;\">\n",
       "      <th></th>\n",
       "      <th>name</th>\n",
       "      <th>description</th>\n",
       "      <th>name_description</th>\n",
       "    </tr>\n",
       "  </thead>\n",
       "  <tbody>\n",
       "    <tr>\n",
       "      <th>14471</th>\n",
       "      <td>Joanne's Sweet and Hot Pickles</td>\n",
       "      <td>This recipe was given to me by a grand lady that I work with. It is very easy, fast and taste very good.</td>\n",
       "      <td>Joanne's Sweet and Hot Pickles - This recipe was given to me by a grand lady that I work with. It is very easy, fast and taste very good.</td>\n",
       "    </tr>\n",
       "    <tr>\n",
       "      <th>25924</th>\n",
       "      <td>Simply Sweet Pickles (No Processing Required)</td>\n",
       "      <td>This is the simplest recipe ever! I've canned a lot of pickles, and this is now our favorite sweet pickle recipe.  And the beauty of it is there is no water bath required!  It has a little kick to it from tobasco sauce.  I do NOT like hot, spicey food so I was sceptical at first, but trust me, there is just enough kick to this to make it interesting.</td>\n",
       "      <td>Simply Sweet Pickles (No Processing Required) - This is the simplest recipe ever! I've canned a lot of pickles, and this is now our favorite sweet pickle recipe.  And the beauty of it is there is no water bath required!  It has a little kick to it from tobasco sauce.  I do NOT like hot, spicey food so I was sceptical at first, but trust me, there is just enough kick to this to make it interesting.</td>\n",
       "    </tr>\n",
       "    <tr>\n",
       "      <th>58545</th>\n",
       "      <td>Crisp Sweet Pickles</td>\n",
       "      <td>Super easy and they taste sooo good!  I love this recipe because it only takes 10 minutes + chilling time to make. I found this recipe in Taste of Home magazine and now I keep it on hand in my recipe box!</td>\n",
       "      <td>Crisp Sweet Pickles - Super easy and they taste sooo good!  I love this recipe because it only takes 10 minutes + chilling time to make. I found this recipe in Taste of Home magazine and now I keep it on hand in my recipe box!</td>\n",
       "    </tr>\n",
       "    <tr>\n",
       "      <th>68444</th>\n",
       "      <td>Sweet Hot Pickles</td>\n",
       "      <td>This is a combination of several recipes, one from my father, one from an old cook book, and my own adjustments</td>\n",
       "      <td>Sweet Hot Pickles - This is a combination of several recipes, one from my father, one from an old cook book, and my own adjustments</td>\n",
       "    </tr>\n",
       "    <tr>\n",
       "      <th>98261</th>\n",
       "      <td>Lite Spicy Dill Pickle Dip</td>\n",
       "      <td>Make with your favorite dill pickle, or better yet, your homemade ones</td>\n",
       "      <td>Lite Spicy Dill Pickle Dip - Make with your favorite dill pickle, or better yet, your homemade ones</td>\n",
       "    </tr>\n",
       "  </tbody>\n",
       "</table>\n",
       "</div>"
      ],
      "text/plain": [
       "                                                name                                                                                                                                                                                                                                                                                                                                                       description                                                                                                                                                                                                                                                                                                                                                                                                  name_description\n",
       "14471                 Joanne's Sweet and Hot Pickles                                                                                                                                                                                                                                                          This recipe was given to me by a grand lady that I work with. It is very easy, fast and taste very good.                                                                                                                                                                                                                                                                         Joanne's Sweet and Hot Pickles - This recipe was given to me by a grand lady that I work with. It is very easy, fast and taste very good.\n",
       "25924  Simply Sweet Pickles (No Processing Required)  This is the simplest recipe ever! I've canned a lot of pickles, and this is now our favorite sweet pickle recipe.  And the beauty of it is there is no water bath required!  It has a little kick to it from tobasco sauce.  I do NOT like hot, spicey food so I was sceptical at first, but trust me, there is just enough kick to this to make it interesting.  Simply Sweet Pickles (No Processing Required) - This is the simplest recipe ever! I've canned a lot of pickles, and this is now our favorite sweet pickle recipe.  And the beauty of it is there is no water bath required!  It has a little kick to it from tobasco sauce.  I do NOT like hot, spicey food so I was sceptical at first, but trust me, there is just enough kick to this to make it interesting.\n",
       "58545                            Crisp Sweet Pickles                                                                                                                                                      Super easy and they taste sooo good!  I love this recipe because it only takes 10 minutes + chilling time to make. I found this recipe in Taste of Home magazine and now I keep it on hand in my recipe box!                                                                                                                                                                                Crisp Sweet Pickles - Super easy and they taste sooo good!  I love this recipe because it only takes 10 minutes + chilling time to make. I found this recipe in Taste of Home magazine and now I keep it on hand in my recipe box!\n",
       "68444                              Sweet Hot Pickles                                                                                                                                                                                                                                                   This is a combination of several recipes, one from my father, one from an old cook book, and my own adjustments                                                                                                                                                                                                                                                                               Sweet Hot Pickles - This is a combination of several recipes, one from my father, one from an old cook book, and my own adjustments\n",
       "98261                     Lite Spicy Dill Pickle Dip                                                                                                                                                                                                                                                                                            Make with your favorite dill pickle, or better yet, your homemade ones                                                                                                                                                                                                                                                                                                               Lite Spicy Dill Pickle Dip - Make with your favorite dill pickle, or better yet, your homemade ones"
      ]
     },
     "execution_count": 176,
     "metadata": {},
     "output_type": "execute_result"
    }
   ],
   "source": [
    "user_question = questions_df.loc[5,'generated_question']\n",
    "parsed_result = rephrase_query_for_retrieval_json(user_question)\n",
    "\n",
    "if parsed_result[\"requested_count\"] == 0 and parsed_result[\"search_query\"].startswith(\"[Out of scope\"):\n",
    "    print(\"Qwen flagged the query or parse error =>\", parsed_result[\"search_query\"])\n",
    "else:\n",
    "    print(\"Final parsed JSON =>\", parsed_result)\n",
    "\n",
    "print(questions_df.loc[5,'recipe_text'])\n",
    "direct_faiss_search(parsed_result[\"search_query\"],5)\n",
    "\n"
   ]
  }
 ],
 "metadata": {
  "kernelspec": {
   "display_name": "llms",
   "language": "python",
   "name": "python3"
  },
  "language_info": {
   "codemirror_mode": {
    "name": "ipython",
    "version": 3
   },
   "file_extension": ".py",
   "mimetype": "text/x-python",
   "name": "python",
   "nbconvert_exporter": "python",
   "pygments_lexer": "ipython3",
   "version": "3.11.11"
  }
 },
 "nbformat": 4,
 "nbformat_minor": 2
}
